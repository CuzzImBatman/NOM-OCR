{
 "cells": [
  {
   "cell_type": "code",
   "execution_count": 26,
   "id": "75f3c361",
   "metadata": {},
   "outputs": [
    {
     "ename": "ValueError",
     "evalue": "Size must be a tuple of length 2",
     "output_type": "error",
     "traceback": [
      "\u001b[1;31m---------------------------------------------------------------------------\u001b[0m",
      "\u001b[1;31mValueError\u001b[0m                                Traceback (most recent call last)",
      "File \u001b[1;32mD:\\19CTT2\\Year3\\sem2_Y3\\NLP\\tensorflow-hangul-recognition\\tools\\hangul-image-generator.py:227\u001b[0m, in \u001b[0;36m<module>\u001b[1;34m\u001b[0m\n\u001b[0;32m    222\u001b[0m parser\u001b[38;5;241m.\u001b[39madd_argument(\u001b[38;5;124m'\u001b[39m\u001b[38;5;124m--output-dir\u001b[39m\u001b[38;5;124m'\u001b[39m, \u001b[38;5;28mtype\u001b[39m\u001b[38;5;241m=\u001b[39m\u001b[38;5;28mstr\u001b[39m, dest\u001b[38;5;241m=\u001b[39m\u001b[38;5;124m'\u001b[39m\u001b[38;5;124moutput_dir\u001b[39m\u001b[38;5;124m'\u001b[39m,\n\u001b[0;32m    223\u001b[0m                     default\u001b[38;5;241m=\u001b[39mDEFAULT_OUTPUT_DIR,\n\u001b[0;32m    224\u001b[0m                     help\u001b[38;5;241m=\u001b[39m\u001b[38;5;124m'\u001b[39m\u001b[38;5;124mOutput directory to store generated images and \u001b[39m\u001b[38;5;124m'\u001b[39m\n\u001b[0;32m    225\u001b[0m                          \u001b[38;5;124m'\u001b[39m\u001b[38;5;124mlabel CSV file.\u001b[39m\u001b[38;5;124m'\u001b[39m)\n\u001b[0;32m    226\u001b[0m args \u001b[38;5;241m=\u001b[39m parser\u001b[38;5;241m.\u001b[39mparse_args()\n\u001b[1;32m--> 227\u001b[0m \u001b[43mgenerate_hangul_images\u001b[49m\u001b[43m(\u001b[49m\u001b[43margs\u001b[49m\u001b[38;5;241;43m.\u001b[39;49m\u001b[43mlabel_file\u001b[49m\u001b[43m,\u001b[49m\u001b[43m \u001b[49m\u001b[43margs\u001b[49m\u001b[38;5;241;43m.\u001b[39;49m\u001b[43mfonts_dir\u001b[49m\u001b[43m,\u001b[49m\u001b[43m \u001b[49m\u001b[43margs\u001b[49m\u001b[38;5;241;43m.\u001b[39;49m\u001b[43moutput_dir\u001b[49m\u001b[43m)\u001b[49m\n",
      "File \u001b[1;32mD:\\19CTT2\\Year3\\sem2_Y3\\NLP\\tensorflow-hangul-recognition\\tools\\hangul-image-generator.py:117\u001b[0m, in \u001b[0;36mgenerate_hangul_images\u001b[1;34m(label_file, fonts_dir, output_dir)\u001b[0m\n\u001b[0;32m    115\u001b[0m \u001b[38;5;28;01mfor\u001b[39;00m font \u001b[38;5;129;01min\u001b[39;00m fonts:\n\u001b[0;32m    116\u001b[0m     total_count \u001b[38;5;241m+\u001b[39m\u001b[38;5;241m=\u001b[39m \u001b[38;5;241m1\u001b[39m\n\u001b[1;32m--> 117\u001b[0m     image \u001b[38;5;241m=\u001b[39m \u001b[43mImage\u001b[49m\u001b[38;5;241;43m.\u001b[39;49m\u001b[43mnew\u001b[49m\u001b[43m(\u001b[49m\u001b[38;5;124;43m'\u001b[39;49m\u001b[38;5;124;43mL\u001b[39;49m\u001b[38;5;124;43m'\u001b[39;49m\u001b[43m,\u001b[49m\u001b[43m \u001b[49m\u001b[43m(\u001b[49m\u001b[43mIMAGE_WIDTH\u001b[49m\u001b[43m,\u001b[49m\u001b[43m \u001b[49m\u001b[43mIMAGE_HEIGHT\u001b[49m\u001b[43m,\u001b[49m\u001b[38;5;241;43m1\u001b[39;49m\u001b[43m)\u001b[49m\u001b[43m,\u001b[49m\u001b[43m \u001b[49m\u001b[43mcolor\u001b[49m\u001b[38;5;241;43m=\u001b[39;49m\u001b[38;5;241;43m0\u001b[39;49m\u001b[43m)\u001b[49m\n\u001b[0;32m    118\u001b[0m     font \u001b[38;5;241m=\u001b[39m ImageFont\u001b[38;5;241m.\u001b[39mtruetype(font, \u001b[38;5;241m48\u001b[39m)\n\u001b[0;32m    119\u001b[0m     drawing \u001b[38;5;241m=\u001b[39m ImageDraw\u001b[38;5;241m.\u001b[39mDraw(image)\n",
      "File \u001b[1;32mD:\\conda\\lib\\site-packages\\PIL\\Image.py:2765\u001b[0m, in \u001b[0;36mnew\u001b[1;34m(mode, size, color)\u001b[0m\n\u001b[0;32m   2749\u001b[0m \u001b[38;5;28;01mdef\u001b[39;00m \u001b[38;5;21mnew\u001b[39m(mode, size, color\u001b[38;5;241m=\u001b[39m\u001b[38;5;241m0\u001b[39m):\n\u001b[0;32m   2750\u001b[0m     \u001b[38;5;124;03m\"\"\"\u001b[39;00m\n\u001b[0;32m   2751\u001b[0m \u001b[38;5;124;03m    Creates a new image with the given mode and size.\u001b[39;00m\n\u001b[0;32m   2752\u001b[0m \n\u001b[1;32m   (...)\u001b[0m\n\u001b[0;32m   2762\u001b[0m \u001b[38;5;124;03m    :returns: An :py:class:`~PIL.Image.Image` object.\u001b[39;00m\n\u001b[0;32m   2763\u001b[0m \u001b[38;5;124;03m    \"\"\"\u001b[39;00m\n\u001b[1;32m-> 2765\u001b[0m     \u001b[43m_check_size\u001b[49m\u001b[43m(\u001b[49m\u001b[43msize\u001b[49m\u001b[43m)\u001b[49m\n\u001b[0;32m   2767\u001b[0m     \u001b[38;5;28;01mif\u001b[39;00m color \u001b[38;5;129;01mis\u001b[39;00m \u001b[38;5;28;01mNone\u001b[39;00m:\n\u001b[0;32m   2768\u001b[0m         \u001b[38;5;66;03m# don't initialize\u001b[39;00m\n\u001b[0;32m   2769\u001b[0m         \u001b[38;5;28;01mreturn\u001b[39;00m Image()\u001b[38;5;241m.\u001b[39m_new(core\u001b[38;5;241m.\u001b[39mnew(mode, size))\n",
      "File \u001b[1;32mD:\\conda\\lib\\site-packages\\PIL\\Image.py:2742\u001b[0m, in \u001b[0;36m_check_size\u001b[1;34m(size)\u001b[0m\n\u001b[0;32m   2740\u001b[0m     \u001b[38;5;28;01mraise\u001b[39;00m \u001b[38;5;167;01mValueError\u001b[39;00m(\u001b[38;5;124m\"\u001b[39m\u001b[38;5;124mSize must be a tuple\u001b[39m\u001b[38;5;124m\"\u001b[39m)\n\u001b[0;32m   2741\u001b[0m \u001b[38;5;28;01mif\u001b[39;00m \u001b[38;5;28mlen\u001b[39m(size) \u001b[38;5;241m!=\u001b[39m \u001b[38;5;241m2\u001b[39m:\n\u001b[1;32m-> 2742\u001b[0m     \u001b[38;5;28;01mraise\u001b[39;00m \u001b[38;5;167;01mValueError\u001b[39;00m(\u001b[38;5;124m\"\u001b[39m\u001b[38;5;124mSize must be a tuple of length 2\u001b[39m\u001b[38;5;124m\"\u001b[39m)\n\u001b[0;32m   2743\u001b[0m \u001b[38;5;28;01mif\u001b[39;00m size[\u001b[38;5;241m0\u001b[39m] \u001b[38;5;241m<\u001b[39m \u001b[38;5;241m0\u001b[39m \u001b[38;5;129;01mor\u001b[39;00m size[\u001b[38;5;241m1\u001b[39m] \u001b[38;5;241m<\u001b[39m \u001b[38;5;241m0\u001b[39m:\n\u001b[0;32m   2744\u001b[0m     \u001b[38;5;28;01mraise\u001b[39;00m \u001b[38;5;167;01mValueError\u001b[39;00m(\u001b[38;5;124m\"\u001b[39m\u001b[38;5;124mWidth and height must be >= 0\u001b[39m\u001b[38;5;124m\"\u001b[39m)\n",
      "\u001b[1;31mValueError\u001b[0m: Size must be a tuple of length 2"
     ]
    }
   ],
   "source": [
    "%run -i ./tools/hangul-image-generator.py "
   ]
  },
  {
   "cell_type": "code",
   "execution_count": 33,
   "id": "35f371d0",
   "metadata": {},
   "outputs": [
    {
     "name": "stdout",
     "output_type": "stream",
     "text": [
      "5040 images generated...\n",
      "10080 images generated...\n",
      "15120 images generated...\n",
      "20160 images generated...\n",
      "25200 images generated...\n",
      "30240 images generated...\n",
      "35280 images generated...\n",
      "40320 images generated...\n",
      "45360 images generated...\n",
      "50400 images generated...\n",
      "55440 images generated...\n",
      "60480 images generated...\n",
      "65520 images generated...\n",
      "70560 images generated...\n",
      "75600 images generated...\n",
      "80640 images generated...\n",
      "85680 images generated...\n",
      "90720 images generated...\n",
      "95760 images generated...\n",
      "Finished generating 99498 images.\n"
     ]
    }
   ],
   "source": [
    "%run -i ./tools/generator.py "
   ]
  },
  {
   "cell_type": "code",
   "execution_count": 34,
   "id": "1a144ade",
   "metadata": {},
   "outputs": [
    {
     "name": "stdout",
     "output_type": "stream",
     "text": [
      "Processing training set TFRecords...\n",
      "Processed 1000 images...\n",
      "Processed 2000 images...\n",
      "Processed 3000 images...\n",
      "Processed 4000 images...\n",
      "Processed 5000 images...\n",
      "Processed 6000 images...\n",
      "Processed 7000 images...\n",
      "Processed 8000 images...\n",
      "Processed 9000 images...\n",
      "Processed 10000 images...\n",
      "Processed 11000 images...\n",
      "Processed 12000 images...\n",
      "Processed 13000 images...\n",
      "Processed 14000 images...\n",
      "Processed 15000 images...\n",
      "Processed 16000 images...\n",
      "Processed 17000 images...\n",
      "Processed 18000 images...\n",
      "Processed 19000 images...\n",
      "Processed 20000 images...\n",
      "Processed 21000 images...\n",
      "Processed 22000 images...\n",
      "Processed 23000 images...\n",
      "Processed 24000 images...\n",
      "Processed 25000 images...\n",
      "Processed 26000 images...\n",
      "Processed 27000 images...\n",
      "Processed 28000 images...\n",
      "Processed 29000 images...\n",
      "Processed 30000 images...\n",
      "Processed 31000 images...\n",
      "Processed 32000 images...\n",
      "Processed 33000 images...\n",
      "Processed 34000 images...\n",
      "Processed 35000 images...\n",
      "Processed 36000 images...\n",
      "Processed 37000 images...\n",
      "Processed 38000 images...\n",
      "Processed 39000 images...\n",
      "Processed 40000 images...\n",
      "Processed 41000 images...\n",
      "Processed 42000 images...\n",
      "Processed 43000 images...\n",
      "Processed 44000 images...\n",
      "Processed 45000 images...\n",
      "Processed 46000 images...\n",
      "Processed 47000 images...\n",
      "Processed 48000 images...\n",
      "Processed 49000 images...\n",
      "Processed 50000 images...\n",
      "Processed 51000 images...\n",
      "Processed 52000 images...\n",
      "Processed 53000 images...\n",
      "Processed 54000 images...\n",
      "Processed 55000 images...\n",
      "Processed 56000 images...\n",
      "Processed 57000 images...\n",
      "Processed 58000 images...\n",
      "Processed 59000 images...\n",
      "Processed 60000 images...\n",
      "Processed 61000 images...\n",
      "Processed 62000 images...\n",
      "Processed 63000 images...\n",
      "Processed 64000 images...\n",
      "Processed 65000 images...\n",
      "Processed 66000 images...\n",
      "Processed 67000 images...\n",
      "Processed 68000 images...\n",
      "Processed 69000 images...\n",
      "Processed 70000 images...\n",
      "Processed 71000 images...\n",
      "Processed 72000 images...\n",
      "Processed 73000 images...\n",
      "Processed 74000 images...\n",
      "Processed 75000 images...\n",
      "Processed 76000 images...\n",
      "Processed 77000 images...\n",
      "Processed 78000 images...\n",
      "Processed 79000 images...\n",
      "Processed 80000 images...\n",
      "Processed 81000 images...\n",
      "Processed 82000 images...\n",
      "Processed 83000 images...\n",
      "Processed 84000 images...\n",
      "Processing testing set TFRecords...\n",
      "Processed 85000 images...\n",
      "Processed 86000 images...\n",
      "Processed 87000 images...\n",
      "Processed 88000 images...\n",
      "Processed 89000 images...\n",
      "Processed 90000 images...\n",
      "Processed 91000 images...\n",
      "Processed 92000 images...\n",
      "Processed 93000 images...\n",
      "Processed 94000 images...\n",
      "Processed 95000 images...\n",
      "Processed 96000 images...\n",
      "Processed 97000 images...\n",
      "Processed 98000 images...\n",
      "Processed 99000 images...\n",
      "\n",
      "Processed 99498 total images...\n",
      "Number of training examples: 84574\n",
      "Number of testing examples: 14924\n",
      "TFRecords files saved to D:\\19CTT2\\Year3\\sem2_Y3\\NLP\\tensorflow-hangul-recognition\\tools\\../tfrecords-output\n"
     ]
    }
   ],
   "source": [
    "%run -i  ./tools/convert-to-tfrecords.py --label-file ./labels/alphabetTK.txt."
   ]
  },
  {
   "cell_type": "code",
   "execution_count": 35,
   "id": "b244c401",
   "metadata": {},
   "outputs": [
    {
     "name": "stdout",
     "output_type": "stream",
     "text": [
      "Processing data...\n",
      "Step 0, Training Accuracy 0\n",
      "Step 100, Training Accuracy 0\n",
      "Step 200, Training Accuracy 0\n",
      "Step 300, Training Accuracy 0.02\n",
      "Step 400, Training Accuracy 0\n",
      "Step 500, Training Accuracy 0\n",
      "Step 600, Training Accuracy 0\n",
      "Step 700, Training Accuracy 0\n",
      "Step 800, Training Accuracy 0\n",
      "Step 900, Training Accuracy 0.01\n",
      "Step 1000, Training Accuracy 0.02\n",
      "Step 1100, Training Accuracy 0\n",
      "Step 1200, Training Accuracy 0.01\n",
      "Step 1300, Training Accuracy 0.01\n",
      "Step 1400, Training Accuracy 0.03\n",
      "Step 1500, Training Accuracy 0.02\n",
      "Step 1600, Training Accuracy 0.06\n",
      "Step 1700, Training Accuracy 0.09\n",
      "Step 1800, Training Accuracy 0.18\n",
      "Step 1900, Training Accuracy 0.16\n",
      "Step 2000, Training Accuracy 0.2\n",
      "Step 2100, Training Accuracy 0.26\n",
      "Step 2200, Training Accuracy 0.34\n",
      "Step 2300, Training Accuracy 0.47\n",
      "Step 2400, Training Accuracy 0.58\n",
      "Step 2500, Training Accuracy 0.62\n",
      "Step 2600, Training Accuracy 0.63\n",
      "Step 2700, Training Accuracy 0.74\n",
      "Step 2800, Training Accuracy 0.74\n",
      "Step 2900, Training Accuracy 0.77\n",
      "Step 3000, Training Accuracy 0.77\n",
      "Step 3100, Training Accuracy 0.84\n",
      "Step 3200, Training Accuracy 0.91\n",
      "Step 3300, Training Accuracy 0.88\n",
      "Step 3400, Training Accuracy 0.89\n",
      "Step 3500, Training Accuracy 0.95\n",
      "Step 3600, Training Accuracy 0.94\n",
      "Step 3700, Training Accuracy 0.96\n",
      "Step 3800, Training Accuracy 0.96\n",
      "Step 3900, Training Accuracy 0.97\n",
      "Step 4000, Training Accuracy 0.97\n",
      "Step 4100, Training Accuracy 0.99\n",
      "Step 4200, Training Accuracy 1\n",
      "Step 4300, Training Accuracy 0.98\n",
      "Step 4400, Training Accuracy 0.98\n",
      "Step 4500, Training Accuracy 1\n",
      "Step 4600, Training Accuracy 0.99\n",
      "Step 4700, Training Accuracy 0.99\n",
      "Step 4800, Training Accuracy 0.99\n",
      "Step 4900, Training Accuracy 1\n",
      "Step 5000, Training Accuracy 1\n",
      "Step 5100, Training Accuracy 0.99\n",
      "Step 5200, Training Accuracy 1\n",
      "Step 5300, Training Accuracy 1\n",
      "Step 5400, Training Accuracy 1\n",
      "Step 5500, Training Accuracy 0.99\n",
      "Step 5600, Training Accuracy 0.99\n",
      "Step 5700, Training Accuracy 1\n",
      "Step 5800, Training Accuracy 1\n",
      "Step 5900, Training Accuracy 1\n",
      "Step 6000, Training Accuracy 0.99\n",
      "Step 6100, Training Accuracy 0.99\n",
      "Step 6200, Training Accuracy 1\n",
      "Step 6300, Training Accuracy 1\n",
      "Step 6400, Training Accuracy 0.99\n",
      "Step 6500, Training Accuracy 1\n",
      "Step 6600, Training Accuracy 1\n",
      "Step 6700, Training Accuracy 1\n",
      "Step 6800, Training Accuracy 1\n",
      "Step 6900, Training Accuracy 1\n",
      "Step 7000, Training Accuracy 1\n",
      "Step 7100, Training Accuracy 0.99\n",
      "Step 7200, Training Accuracy 1\n",
      "Step 7300, Training Accuracy 1\n",
      "Step 7400, Training Accuracy 1\n",
      "Step 7500, Training Accuracy 1\n",
      "Step 7600, Training Accuracy 1\n",
      "Step 7700, Training Accuracy 1\n",
      "Step 7800, Training Accuracy 1\n",
      "Step 7900, Training Accuracy 1\n",
      "Step 8000, Training Accuracy 1\n",
      "Step 8100, Training Accuracy 1\n",
      "Step 8200, Training Accuracy 1\n",
      "Step 8300, Training Accuracy 1\n",
      "Step 8400, Training Accuracy 1\n",
      "Step 8500, Training Accuracy 1\n",
      "Step 8600, Training Accuracy 1\n",
      "Step 8700, Training Accuracy 1\n",
      "Step 8800, Training Accuracy 1\n",
      "Step 8900, Training Accuracy 1\n",
      "Step 9000, Training Accuracy 1\n",
      "Step 9100, Training Accuracy 0.99\n",
      "Step 9200, Training Accuracy 1\n",
      "Step 9300, Training Accuracy 1\n",
      "Step 9400, Training Accuracy 1\n",
      "Step 9500, Training Accuracy 1\n",
      "Step 9600, Training Accuracy 1\n",
      "Step 9700, Training Accuracy 1\n",
      "Step 9800, Training Accuracy 1\n",
      "Step 9900, Training Accuracy 1\n",
      "Step 10000, Training Accuracy 1\n",
      "Step 10100, Training Accuracy 1\n",
      "Step 10200, Training Accuracy 0.99\n",
      "Step 10300, Training Accuracy 1\n",
      "Step 10400, Training Accuracy 1\n",
      "Step 10500, Training Accuracy 1\n",
      "Step 10600, Training Accuracy 1\n",
      "Step 10700, Training Accuracy 1\n",
      "Step 10800, Training Accuracy 1\n",
      "Step 10900, Training Accuracy 0.99\n",
      "Step 11000, Training Accuracy 1\n",
      "Step 11100, Training Accuracy 1\n",
      "Step 11200, Training Accuracy 1\n",
      "Step 11300, Training Accuracy 1\n",
      "Step 11400, Training Accuracy 1\n",
      "Step 11500, Training Accuracy 1\n",
      "Step 11600, Training Accuracy 1\n",
      "Step 11700, Training Accuracy 1\n",
      "Step 11800, Training Accuracy 1\n",
      "Step 11900, Training Accuracy 1\n",
      "Step 12000, Training Accuracy 1\n",
      "Step 12100, Training Accuracy 1\n",
      "Step 12200, Training Accuracy 1\n",
      "Step 12300, Training Accuracy 1\n",
      "Step 12400, Training Accuracy 1\n",
      "Step 12500, Training Accuracy 1\n",
      "Step 12600, Training Accuracy 1\n",
      "Step 12700, Training Accuracy 1\n",
      "Step 12800, Training Accuracy 1\n",
      "Step 12900, Training Accuracy 1\n",
      "Step 13000, Training Accuracy 1\n",
      "Step 13100, Training Accuracy 1\n",
      "Step 13200, Training Accuracy 1\n",
      "Step 13300, Training Accuracy 1\n",
      "Step 13400, Training Accuracy 1\n",
      "Step 13500, Training Accuracy 1\n",
      "Step 13600, Training Accuracy 1\n",
      "Step 13700, Training Accuracy 1\n",
      "Step 13800, Training Accuracy 1\n",
      "Step 13900, Training Accuracy 1\n",
      "Step 14000, Training Accuracy 1\n",
      "Step 14100, Training Accuracy 1\n",
      "Step 14200, Training Accuracy 1\n",
      "Step 14300, Training Accuracy 1\n",
      "Step 14400, Training Accuracy 1\n",
      "Step 14500, Training Accuracy 1\n",
      "Step 14600, Training Accuracy 1\n",
      "Step 14700, Training Accuracy 1\n",
      "Step 14800, Training Accuracy 1\n",
      "Step 14900, Training Accuracy 1\n",
      "Step 15000, Training Accuracy 1\n",
      "Step 15100, Training Accuracy 1\n",
      "Step 15200, Training Accuracy 1\n",
      "Step 15300, Training Accuracy 1\n",
      "Step 15400, Training Accuracy 1\n",
      "Step 15500, Training Accuracy 1\n",
      "Step 15600, Training Accuracy 1\n",
      "Step 15700, Training Accuracy 1\n",
      "Step 15800, Training Accuracy 1\n",
      "Step 15900, Training Accuracy 1\n",
      "Step 16000, Training Accuracy 1\n",
      "Step 16100, Training Accuracy 1\n",
      "Step 16200, Training Accuracy 1\n",
      "Step 16300, Training Accuracy 1\n",
      "Step 16400, Training Accuracy 1\n",
      "Step 16500, Training Accuracy 1\n",
      "Step 16600, Training Accuracy 1\n",
      "Step 16700, Training Accuracy 1\n",
      "Step 16800, Training Accuracy 1\n",
      "Step 16900, Training Accuracy 1\n",
      "Testing model...\n",
      "Testing Accuracy 0.9997319753417314\n",
      "INFO:tensorflow:Restoring parameters from D:\\19CTT2\\Year3\\sem2_Y3\\NLP\\tensorflow-hangul-recognition\\saved-model\\hangul_tensorflow.chkp\n",
      "Inference optimized graph saved at: D:\\19CTT2\\Year3\\sem2_Y3\\NLP\\tensorflow-hangul-recognition\\saved-model\\optimized_hangul_tensorflow.pb\n"
     ]
    }
   ],
   "source": [
    "%run -i ./hangul_model.py --label-file  ./labels/alphabetTK.txt. --num-train-epochs 15"
   ]
  },
  {
   "cell_type": "code",
   "execution_count": 49,
   "id": "dd20e63c",
   "metadata": {},
   "outputs": [
    {
     "name": "stdout",
     "output_type": "stream",
     "text": [
      "33617 (confidence = 0.87703)\n",
      "33970 (confidence = 0.08132)\n",
      "161201 (confidence = 0.02730)\n",
      "30673 (confidence = 0.00988)\n",
      "28960 (confidence = 0.00265)\n"
     ]
    }
   ],
   "source": [
    "%run -i   ./tools/classify-hangul.py ./image-data/hangul-images/hangul_679.jpeg --label-file ./labels/alphabetTK.txt"
   ]
  },
  {
   "cell_type": "code",
   "execution_count": 28,
   "id": "2664ef89",
   "metadata": {},
   "outputs": [
    {
     "data": {
      "text/plain": [
       "1"
      ]
     },
     "execution_count": 28,
     "metadata": {},
     "output_type": "execute_result"
    }
   ],
   "source": [
    "import argparse\n",
    "import glob\n",
    "import io\n",
    "import os\n",
    "import random\n",
    "\n",
    "import numpy as np\n",
    "from PIL import Image, ImageFont, ImageDraw\n",
    "from scipy.ndimage import map_coordinates\n",
    "from scipy.ndimage import gaussian_filter\n",
    "\n",
    "\n",
    "SCRIPT_PATH = os.path.dirname(os.path.abspath(__file__))\n",
    "\n",
    "# Default data paths.\n",
    "DEFAULT_LABEL_FILE = os.path.join(SCRIPT_PATH,\n",
    "                                 # '../labels/2350-common-hangul.txt')\n",
    "                                  '../labels/alphabetTK.txt')\n",
    "fonts_dir = os.path.join(SCRIPT_PATH, '../fonts')\n",
    "DEFAULT_OUTPUT_DIR = os.path.join(SCRIPT_PATH, '../image-data')\n",
    "\n",
    "# Number of random distortion images to generate per font and character.\n",
    "DISTORTION_COUNT = 6\n",
    "\n",
    "# Width and height of the resulting image.\n",
    "IMAGE_WIDTH = 64\n",
    "IMAGE_HEIGHT = 64\n",
    "#fonts = glob.glob(os.path.join(fonts_dir, '*.ttf'))\n",
    "fonts = glob.glob(os.path.join(fonts_dir, '*.otf'))\n",
    "len(fonts)"
   ]
  },
  {
   "cell_type": "code",
   "execution_count": 43,
   "id": "940b043e",
   "metadata": {},
   "outputs": [],
   "source": [
    " for font in fonts:\n",
    "            \n",
    "            image = Image.new('L', (IMAGE_WIDTH, IMAGE_HEIGHT), color=255)\n",
    "            font = ImageFont.truetype(font, 48)\n",
    "            drawing = ImageDraw.Draw(image)\n",
    "            w, h = drawing.textsize( chr(int('983751',10)), font=font)\n",
    "            drawing.text(\n",
    "                ((IMAGE_WIDTH-w)/2, (IMAGE_HEIGHT-h)/2),\n",
    "                chr(int('983751',10)),\n",
    "                fill=(0),\n",
    "                font=font\n",
    "            )\n",
    "            image.show()"
   ]
  },
  {
   "cell_type": "code",
   "execution_count": 37,
   "id": "e447dd7e",
   "metadata": {},
   "outputs": [
    {
     "ename": "AttributeError",
     "evalue": "reshape",
     "output_type": "error",
     "traceback": [
      "\u001b[1;31m---------------------------------------------------------------------------\u001b[0m",
      "\u001b[1;31mAttributeError\u001b[0m                            Traceback (most recent call last)",
      "Input \u001b[1;32mIn [37]\u001b[0m, in \u001b[0;36m<cell line: 1>\u001b[1;34m()\u001b[0m\n\u001b[1;32m----> 1\u001b[0m image \u001b[38;5;241m=\u001b[39m \u001b[43mimage\u001b[49m\u001b[38;5;241;43m.\u001b[39;49m\u001b[43mreshape\u001b[49m(\u001b[38;5;241m-\u001b[39m\u001b[38;5;241m1\u001b[39m, IMG_WIDTH ,IMG_HEIGHT,\u001b[38;5;241m1\u001b[39m)\n",
      "File \u001b[1;32mD:\\conda\\lib\\site-packages\\PIL\\Image.py:548\u001b[0m, in \u001b[0;36mImage.__getattr__\u001b[1;34m(self, name)\u001b[0m\n\u001b[0;32m    541\u001b[0m     warnings\u001b[38;5;241m.\u001b[39mwarn(\n\u001b[0;32m    542\u001b[0m         \u001b[38;5;124m\"\u001b[39m\u001b[38;5;124mImage categories are deprecated and will be removed in Pillow 10 \u001b[39m\u001b[38;5;124m\"\u001b[39m\n\u001b[0;32m    543\u001b[0m         \u001b[38;5;124m\"\u001b[39m\u001b[38;5;124m(2023-07-01). Use is_animated instead.\u001b[39m\u001b[38;5;124m\"\u001b[39m,\n\u001b[0;32m    544\u001b[0m         \u001b[38;5;167;01mDeprecationWarning\u001b[39;00m,\n\u001b[0;32m    545\u001b[0m         stacklevel\u001b[38;5;241m=\u001b[39m\u001b[38;5;241m2\u001b[39m,\n\u001b[0;32m    546\u001b[0m     )\n\u001b[0;32m    547\u001b[0m     \u001b[38;5;28;01mreturn\u001b[39;00m \u001b[38;5;28mself\u001b[39m\u001b[38;5;241m.\u001b[39m_category\n\u001b[1;32m--> 548\u001b[0m \u001b[38;5;28;01mraise\u001b[39;00m \u001b[38;5;167;01mAttributeError\u001b[39;00m(name)\n",
      "\u001b[1;31mAttributeError\u001b[0m: reshape"
     ]
    }
   ],
   "source": []
  },
  {
   "cell_type": "code",
   "execution_count": 44,
   "id": "b1bc23bc",
   "metadata": {},
   "outputs": [
    {
     "data": {
      "text/plain": [
       "(64, 64)"
      ]
     },
     "execution_count": 44,
     "metadata": {},
     "output_type": "execute_result"
    }
   ],
   "source": [
    "mtx= np.asarray(image)\n",
    "mtx.shape"
   ]
  },
  {
   "cell_type": "code",
   "execution_count": 48,
   "id": "5c0b5abd",
   "metadata": {},
   "outputs": [
    {
     "ename": "TypeError",
     "evalue": "Cannot handle this data type: (1, 1, 1), |u1",
     "output_type": "error",
     "traceback": [
      "\u001b[1;31m---------------------------------------------------------------------------\u001b[0m",
      "\u001b[1;31mKeyError\u001b[0m                                  Traceback (most recent call last)",
      "File \u001b[1;32mD:\\conda\\lib\\site-packages\\PIL\\Image.py:2928\u001b[0m, in \u001b[0;36mfromarray\u001b[1;34m(obj, mode)\u001b[0m\n\u001b[0;32m   2927\u001b[0m \u001b[38;5;28;01mtry\u001b[39;00m:\n\u001b[1;32m-> 2928\u001b[0m     mode, rawmode \u001b[38;5;241m=\u001b[39m \u001b[43m_fromarray_typemap\u001b[49m\u001b[43m[\u001b[49m\u001b[43mtypekey\u001b[49m\u001b[43m]\u001b[49m\n\u001b[0;32m   2929\u001b[0m \u001b[38;5;28;01mexcept\u001b[39;00m \u001b[38;5;167;01mKeyError\u001b[39;00m \u001b[38;5;28;01mas\u001b[39;00m e:\n",
      "\u001b[1;31mKeyError\u001b[0m: ((1, 1, 1), '|u1')",
      "\nThe above exception was the direct cause of the following exception:\n",
      "\u001b[1;31mTypeError\u001b[0m                                 Traceback (most recent call last)",
      "Input \u001b[1;32mIn [48]\u001b[0m, in \u001b[0;36m<cell line: 3>\u001b[1;34m()\u001b[0m\n\u001b[0;32m      1\u001b[0m mtx \u001b[38;5;241m=\u001b[39m mtx\u001b[38;5;241m.\u001b[39mreshape( \u001b[38;5;241m64\u001b[39m ,\u001b[38;5;241m64\u001b[39m,\u001b[38;5;241m1\u001b[39m)\n\u001b[0;32m      2\u001b[0m mtx\u001b[38;5;241m.\u001b[39mshape\n\u001b[1;32m----> 3\u001b[0m image \u001b[38;5;241m=\u001b[39m \u001b[43mImage\u001b[49m\u001b[38;5;241;43m.\u001b[39;49m\u001b[43mfromarray\u001b[49m\u001b[43m(\u001b[49m\u001b[43mmtx\u001b[49m\u001b[43m)\u001b[49m\n\u001b[0;32m      4\u001b[0m image\u001b[38;5;241m.\u001b[39mshow()\n",
      "File \u001b[1;32mD:\\conda\\lib\\site-packages\\PIL\\Image.py:2930\u001b[0m, in \u001b[0;36mfromarray\u001b[1;34m(obj, mode)\u001b[0m\n\u001b[0;32m   2928\u001b[0m         mode, rawmode \u001b[38;5;241m=\u001b[39m _fromarray_typemap[typekey]\n\u001b[0;32m   2929\u001b[0m     \u001b[38;5;28;01mexcept\u001b[39;00m \u001b[38;5;167;01mKeyError\u001b[39;00m \u001b[38;5;28;01mas\u001b[39;00m e:\n\u001b[1;32m-> 2930\u001b[0m         \u001b[38;5;28;01mraise\u001b[39;00m \u001b[38;5;167;01mTypeError\u001b[39;00m(\u001b[38;5;124m\"\u001b[39m\u001b[38;5;124mCannot handle this data type: \u001b[39m\u001b[38;5;132;01m%s\u001b[39;00m\u001b[38;5;124m, \u001b[39m\u001b[38;5;132;01m%s\u001b[39;00m\u001b[38;5;124m\"\u001b[39m \u001b[38;5;241m%\u001b[39m typekey) \u001b[38;5;28;01mfrom\u001b[39;00m \u001b[38;5;21;01me\u001b[39;00m\n\u001b[0;32m   2931\u001b[0m \u001b[38;5;28;01melse\u001b[39;00m:\n\u001b[0;32m   2932\u001b[0m     rawmode \u001b[38;5;241m=\u001b[39m mode\n",
      "\u001b[1;31mTypeError\u001b[0m: Cannot handle this data type: (1, 1, 1), |u1"
     ]
    }
   ],
   "source": [
    "mtx = mtx.reshape( 64 ,64,1)\n",
    "mtx.shape\n",
    "image = Image.fromarray(mtx)\n",
    "image.show()"
   ]
  },
  {
   "cell_type": "code",
   "execution_count": 11,
   "id": "6946066f",
   "metadata": {},
   "outputs": [],
   "source": [
    "%run -i ./tools/imageprocessing.py"
   ]
  },
  {
   "cell_type": "code",
   "execution_count": 34,
   "id": "7b8865c9",
   "metadata": {},
   "outputs": [],
   "source": [
    "test= add_salt_pepper_noise(mtx,0.03)\n",
    "#test= _invert_make_sparse_(mtx)\n",
    "#test=_threshold_(mtx)"
   ]
  },
  {
   "cell_type": "code",
   "execution_count": 35,
   "id": "fb055bcf",
   "metadata": {},
   "outputs": [],
   "source": [
    "from PIL import Image\n",
    "import numpy as np\n",
    "test = Image.fromarray(test)\n",
    "#img.save('my.png')\n",
    "test.show()"
   ]
  },
  {
   "cell_type": "code",
   "execution_count": 42,
   "id": "73d143e1",
   "metadata": {},
   "outputs": [
    {
     "ename": "ValueError",
     "evalue": "cannot reshape array of size 12288 into shape (64,64,1)",
     "output_type": "error",
     "traceback": [
      "\u001b[1;31m---------------------------------------------------------------------------\u001b[0m",
      "\u001b[1;31mValueError\u001b[0m                                Traceback (most recent call last)",
      "Input \u001b[1;32mIn [42]\u001b[0m, in \u001b[0;36m<cell line: 9>\u001b[1;34m()\u001b[0m\n\u001b[0;32m      4\u001b[0m image \u001b[38;5;241m=\u001b[39m cv2\u001b[38;5;241m.\u001b[39mimread(\u001b[38;5;124m'\u001b[39m\u001b[38;5;124mtesttttt/hangul_66277.jpeg\u001b[39m\u001b[38;5;124m'\u001b[39m)\n\u001b[0;32m      5\u001b[0m \u001b[38;5;66;03m# width = int(32)\u001b[39;00m\n\u001b[0;32m      6\u001b[0m \u001b[38;5;66;03m# height = int(32)\u001b[39;00m\n\u001b[0;32m      7\u001b[0m \u001b[38;5;66;03m# dim = (width, height)\u001b[39;00m\n\u001b[0;32m      8\u001b[0m \u001b[38;5;66;03m# image = cv2.resize(image, dim, interpolation = cv2.INTER_AREA)\u001b[39;00m\n\u001b[1;32m----> 9\u001b[0m image \u001b[38;5;241m=\u001b[39m \u001b[43mimage\u001b[49m\u001b[38;5;241;43m.\u001b[39;49m\u001b[43mreshape\u001b[49m\u001b[43m(\u001b[49m\u001b[43m \u001b[49m\u001b[38;5;241;43m64\u001b[39;49m\u001b[43m \u001b[49m\u001b[43m,\u001b[49m\u001b[38;5;241;43m64\u001b[39;49m\u001b[43m,\u001b[49m\u001b[38;5;241;43m1\u001b[39;49m\u001b[43m)\u001b[49m\n\u001b[0;32m     10\u001b[0m mtx\u001b[38;5;241m.\u001b[39mshape\n\u001b[0;32m     11\u001b[0m image\u001b[38;5;241m.\u001b[39mshape\n",
      "\u001b[1;31mValueError\u001b[0m: cannot reshape array of size 12288 into shape (64,64,1)"
     ]
    }
   ],
   "source": [
    "import cv2\n",
    "from PIL import Image, ImageOps\n",
    "from skimage import color\n",
    "image = cv2.imread('testtttt/hangul_66277.jpeg')\n",
    "# width = int(32)\n",
    "# height = int(32)\n",
    "# dim = (width, height)\n",
    "# image = cv2.resize(image, dim, interpolation = cv2.INTER_AREA)\n",
    "image = image.reshape( 64 ,64,1)\n",
    "mtx.shape\n",
    "image.shape\n",
    "image = Image.fromarray(image)\n",
    "image=color.rgb2gray(image)\n",
    "#image=ImageOps.grayscale(image)\n",
    "mtx= np.asarray(image)\n",
    "mtx.shape\n"
   ]
  },
  {
   "cell_type": "code",
   "execution_count": 24,
   "id": "ca84531e",
   "metadata": {},
   "outputs": [
    {
     "data": {
      "text/plain": [
       "array([[255, 255, 255, ..., 255, 255, 255],\n",
       "       [255, 255, 255, ..., 255, 255, 255],\n",
       "       [255, 255, 255, ..., 255, 255, 255],\n",
       "       ...,\n",
       "       [255, 255, 255, ..., 255, 255, 255],\n",
       "       [255, 255, 255, ..., 255, 255, 255],\n",
       "       [255, 255, 255, ..., 255, 255, 255]], dtype=uint8)"
      ]
     },
     "execution_count": 24,
     "metadata": {},
     "output_type": "execute_result"
    }
   ],
   "source": [
    "import cv2\n",
    "invert = test\n",
    "invert = cv2.bitwise_not(invert)\n",
    "invert"
   ]
  },
  {
   "cell_type": "code",
   "execution_count": 25,
   "id": "4c86bc6c",
   "metadata": {},
   "outputs": [],
   "source": [
    "from PIL import Image\n",
    "import numpy as np\n",
    "invert = Image.fromarray(invert)\n",
    "#img.save('my.png')\n",
    "invert.show()"
   ]
  },
  {
   "cell_type": "markdown",
   "id": "5532b894",
   "metadata": {},
   "source": [
    "#rotate "
   ]
  },
  {
   "cell_type": "code",
   "execution_count": 18,
   "id": "b4f9e4ee",
   "metadata": {},
   "outputs": [],
   "source": [
    "rotated = image.rotate(np.random.random_sample()*9, fillcolor = 255)\n",
    "rotated.show()"
   ]
  },
  {
   "cell_type": "code",
   "execution_count": 69,
   "id": "58cdf71a",
   "metadata": {},
   "outputs": [
    {
     "data": {
      "text/plain": [
       "-3.2283991689564813"
      ]
     },
     "execution_count": 69,
     "metadata": {},
     "output_type": "execute_result"
    }
   ],
   "source": [
    "np.random.random_sample()*14-7"
   ]
  }
 ],
 "metadata": {
  "kernelspec": {
   "display_name": "Python 3 (ipykernel)",
   "language": "python",
   "name": "python3"
  },
  "language_info": {
   "codemirror_mode": {
    "name": "ipython",
    "version": 3
   },
   "file_extension": ".py",
   "mimetype": "text/x-python",
   "name": "python",
   "nbconvert_exporter": "python",
   "pygments_lexer": "ipython3",
   "version": "3.9.12"
  }
 },
 "nbformat": 4,
 "nbformat_minor": 5
}
