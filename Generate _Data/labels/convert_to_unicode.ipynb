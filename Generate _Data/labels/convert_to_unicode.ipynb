{
 "cells": [
  {
   "cell_type": "code",
   "execution_count": null,
   "id": "5b3d3cf6",
   "metadata": {},
   "outputs": [],
   "source": [
    "unicodestr = unicode(bytestr, \"utf-8\")"
   ]
  },
  {
   "cell_type": "code",
   "execution_count": 1,
   "id": "474efc38",
   "metadata": {},
   "outputs": [],
   "source": [
    "with open(\"test.txt\", \"r\", encoding = 'utf-8') as f:\n",
    "    lines = f.readlines()\n",
    "with open(\"unicode.txt\", \"w\", encoding ='utf-8') as f:\n",
    "    for line in lines:\n",
    "        \n",
    "            f.write(str(ord(line[0])) + '\\n')\n",
    "        "
   ]
  },
  {
   "cell_type": "code",
   "execution_count": 2,
   "id": "d0c9c0d2",
   "metadata": {},
   "outputs": [],
   "source": [
    "with open(\"unicode.txt\", \"r\", encoding = 'utf-8') as f:\n",
    "    lines = f.readlines()\n",
    "with open(\"character.txt\", \"w\", encoding ='utf-8') as f:\n",
    "    for line in lines:\n",
    "            line = line.strip()\n",
    "            f.write(chr(int(line)) + '\\n')\n",
    "        "
   ]
  }
 ],
 "metadata": {
  "kernelspec": {
   "display_name": "Python 3 (ipykernel)",
   "language": "python",
   "name": "python3"
  },
  "language_info": {
   "codemirror_mode": {
    "name": "ipython",
    "version": 3
   },
   "file_extension": ".py",
   "mimetype": "text/x-python",
   "name": "python",
   "nbconvert_exporter": "python",
   "pygments_lexer": "ipython3",
   "version": "3.9.12"
  }
 },
 "nbformat": 4,
 "nbformat_minor": 5
}
